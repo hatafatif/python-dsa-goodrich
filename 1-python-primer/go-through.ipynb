{
 "cells": [
  {
   "attachments": {},
   "cell_type": "markdown",
   "metadata": {},
   "source": [
    "# Python Overview:\n",
    "___\n",
    "\n"
   ]
  },
  {
   "attachments": {},
   "cell_type": "markdown",
   "metadata": {},
   "source": [
    "### Python Interpreter\n",
    "Python is regarded as an Interpreted language, which means it uses an interpreter. However, it is actually a Hybrid language. `source_code.py` is compiled first to `byte_code.pyc`, which is then interpreted by the Interpreter."
   ]
  },
  {
   "attachments": {},
   "cell_type": "markdown",
   "metadata": {},
   "source": [
    "# Python Objects\n",
    "___\n",
    "Identifiers (variables) point to memory addresses, which can be found by the `id(indentifier)` function. "
   ]
  },
  {
   "cell_type": "code",
   "execution_count": 15,
   "metadata": {},
   "outputs": [
    {
     "name": "stdout",
     "output_type": "stream",
     "text": [
      "a = 200, Memory Address of a: 140709139639304\n",
      "b = 200, Memory Address of b: 140709139639304\n",
      "a = 205, Memory Address of a: 140709139639464\n",
      "b = 200, Memory Address of b: 140709139639304\n"
     ]
    }
   ],
   "source": [
    "a = 200\n",
    "b = a\n",
    "print(f'a = {a}, Memory Address of a: {id(a)}')\n",
    "print(f'b = {b}, Memory Address of b: {id(b)}')\n",
    "\n",
    "# Where `a` is reassigned to `a+5`, the memory address changes.\n",
    "a = a+5\n",
    "print(f'a = {a}, Memory Address of a: {id(a)}')\n",
    "print(f'b = {b}, Memory Address of b: {id(b)}')"
   ]
  },
  {
   "attachments": {},
   "cell_type": "markdown",
   "metadata": {},
   "source": [
    "Python is dynamically typed. Identifiers do not have a type associated to them, but the object they are pointing to in memory do have a type associated to them."
   ]
  },
  {
   "cell_type": "code",
   "execution_count": 14,
   "metadata": {},
   "outputs": [
    {
     "name": "stdout",
     "output_type": "stream",
     "text": [
      "<class 'int'>\n"
     ]
    }
   ],
   "source": [
    "print(type(a))"
   ]
  },
  {
   "attachments": {},
   "cell_type": "markdown",
   "metadata": {},
   "source": [
    "- __Accessors__: Methods of class that do not modify the state of an object, but just return some data about it.\n",
    "- __Mutators__: Methods that can change the state of the object"
   ]
  },
  {
   "attachments": {},
   "cell_type": "markdown",
   "metadata": {},
   "source": [
    "Literal Forms of Instantiation Class: \n",
    "- `x = []`\n",
    "\n",
    "\n",
    "\n",
    "Non-literal Form:\n",
    "- `x = List()`"
   ]
  },
  {
   "attachments": {},
   "cell_type": "markdown",
   "metadata": {},
   "source": [
    "__Generators__: These are syntactically very similar to functions, except that at the end, instead of using a `return` statement, we see a `yield` statement. This helps with lazy-loading, in the sense that the Generator executes only till it encounters the `yield` statement, after which it pauses, and re-continues from where it left off when the generator is called again."
   ]
  },
  {
   "attachments": {},
   "cell_type": "markdown",
   "metadata": {},
   "source": []
  }
 ],
 "metadata": {
  "kernelspec": {
   "display_name": "Python 3",
   "language": "python",
   "name": "python3"
  },
  "language_info": {
   "codemirror_mode": {
    "name": "ipython",
    "version": 3
   },
   "file_extension": ".py",
   "mimetype": "text/x-python",
   "name": "python",
   "nbconvert_exporter": "python",
   "pygments_lexer": "ipython3",
   "version": "3.11.0"
  },
  "orig_nbformat": 4,
  "vscode": {
   "interpreter": {
    "hash": "c261aea317cc0286b3b3261fbba9abdec21eaa57589985bb7a274bf54d6cc0a7"
   }
  }
 },
 "nbformat": 4,
 "nbformat_minor": 2
}
