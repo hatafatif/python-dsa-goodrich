{
 "cells": [
  {
   "attachments": {},
   "cell_type": "markdown",
   "metadata": {},
   "source": [
    "# Examples of Algorithm Analysis\n",
    "\n",
    "### List:\n",
    "`len(list)` = O(1), since list class maintains a Data Member of Length\n",
    "`list[3]` = O(1), it is because of some mumbo jumbo regarding the fact that Lists are not implemented as LinkedLists where you have to traverse the list to get to the specific item, but instead can be thought more of as a direct reference to the underlying object.\n"
   ]
  },
  {
   "attachments": {},
   "cell_type": "markdown",
   "metadata": {},
   "source": [
    "In Code Fragmant 3.3, there is a specific coding problem; Prefix Averages (page 131).\n",
    "Lets say there is an array S. We have to compute another array A, where A[j] is the Average of S[0:j], where j <=n \n",
    "\n",
    "\n",
    "There is a Quadratic Time Implementation, but also a Linear Time one. Although it is shown in the book, I will try to solve the same problem in Linear Time and test their solution."
   ]
  },
  {
   "cell_type": "code",
   "execution_count": 3,
   "metadata": {},
   "outputs": [
    {
     "name": "stdout",
     "output_type": "stream",
     "text": [
      "appending as is: 10\n",
      "appending: 13.0\n",
      "appending: 14.0\n",
      "appending: 13.75\n",
      "appending: 14.6\n",
      "appending: 15.333333333333334\n",
      "appending: 17.142857142857142\n",
      "[10, 13.0, 14.0, 13.75, 14.6, 15.333333333333334, 17.142857142857142]\n"
     ]
    }
   ],
   "source": [
    "s = [10,16,16,13,18,19,28]\n",
    "a = list()\n",
    "avg = 0\n",
    "for i, n in enumerate(s):\n",
    "    if i == 0:\n",
    "        avg = n\n",
    "        print(f'appending as is: {avg}')\n",
    "    else:\n",
    "        avg = (avg*(i) + n) / (i+1) \n",
    "        print(f'appending: {avg}')\n",
    "    a.append(avg)\n",
    "\n",
    "print(a)\n"
   ]
  },
  {
   "cell_type": "code",
   "execution_count": null,
   "metadata": {},
   "outputs": [],
   "source": [
    "# Paused at 148"
   ]
  }
 ],
 "metadata": {
  "kernelspec": {
   "display_name": "Python 3",
   "language": "python",
   "name": "python3"
  },
  "language_info": {
   "codemirror_mode": {
    "name": "ipython",
    "version": 3
   },
   "file_extension": ".py",
   "mimetype": "text/x-python",
   "name": "python",
   "nbconvert_exporter": "python",
   "pygments_lexer": "ipython3",
   "version": "3.11.0"
  },
  "orig_nbformat": 4,
  "vscode": {
   "interpreter": {
    "hash": "c261aea317cc0286b3b3261fbba9abdec21eaa57589985bb7a274bf54d6cc0a7"
   }
  }
 },
 "nbformat": 4,
 "nbformat_minor": 2
}
